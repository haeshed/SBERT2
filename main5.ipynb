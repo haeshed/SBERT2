{
 "cells": [
  {
   "cell_type": "code",
   "execution_count": 1,
   "metadata": {},
   "outputs": [
    {
     "name": "stdout",
     "output_type": "stream",
     "text": [
      "Requirement already satisfied: matplotlib in ./sbert/lib/python3.10/site-packages (3.9.2)\n",
      "Requirement already satisfied: contourpy>=1.0.1 in ./sbert/lib/python3.10/site-packages (from matplotlib) (1.3.0)\n",
      "Requirement already satisfied: cycler>=0.10 in ./sbert/lib/python3.10/site-packages (from matplotlib) (0.12.1)\n",
      "Requirement already satisfied: fonttools>=4.22.0 in ./sbert/lib/python3.10/site-packages (from matplotlib) (4.53.1)\n",
      "Requirement already satisfied: kiwisolver>=1.3.1 in ./sbert/lib/python3.10/site-packages (from matplotlib) (1.4.5)\n",
      "Requirement already satisfied: numpy>=1.23 in ./sbert/lib/python3.10/site-packages (from matplotlib) (1.26.4)\n",
      "Requirement already satisfied: packaging>=20.0 in ./sbert/lib/python3.10/site-packages (from matplotlib) (24.1)\n",
      "Requirement already satisfied: pillow>=8 in ./sbert/lib/python3.10/site-packages (from matplotlib) (10.4.0)\n",
      "Requirement already satisfied: pyparsing>=2.3.1 in ./sbert/lib/python3.10/site-packages (from matplotlib) (3.1.4)\n",
      "Requirement already satisfied: python-dateutil>=2.7 in ./sbert/lib/python3.10/site-packages (from matplotlib) (2.9.0.post0)\n",
      "Requirement already satisfied: six>=1.5 in ./sbert/lib/python3.10/site-packages (from python-dateutil>=2.7->matplotlib) (1.16.0)\n"
     ]
    }
   ],
   "source": [
    "# Install necessary libraries if not already installed\n",
    "# !pip install transformers datasets pandas\n",
    "# !pip install matplotlib\n",
    "\n",
    "# Import necessary libraries\n",
    "from datasets import load_dataset, Dataset\n",
    "from transformers import BertTokenizer, BertForSequenceClassification, Trainer, TrainingArguments, DataCollatorWithPadding\n",
    "import pandas as pd\n",
    "import torch\n",
    "\n"
   ]
  },
  {
   "cell_type": "code",
   "execution_count": 2,
   "metadata": {},
   "outputs": [
    {
     "name": "stdout",
     "output_type": "stream",
     "text": [
      "MPS is available\n"
     ]
    }
   ],
   "source": [
    "# Check for MPS and CUDA availability\n",
    "if torch.backends.mps.is_available():\n",
    "    device = torch.device('mps')\n",
    "    print(\"MPS is available\")\n",
    "elif torch.cuda.is_available():\n",
    "    device = torch.device('cuda')\n",
    "    print(\"CUDA is available\")\n",
    "else:\n",
    "    device = torch.device('cpu')\n",
    "    print(\"Using CPU\")\n",
    "\n",
    "\n"
   ]
  },
  {
   "cell_type": "code",
   "execution_count": 3,
   "metadata": {},
   "outputs": [],
   "source": [
    "# Load the datasets from CSV files\n",
    "train_df = pd.read_csv('data/train.csv')\n",
    "valid_df = pd.read_csv('data/dev.csv')\n",
    "test_df = pd.read_csv('data/test.csv')\n",
    "\n",
    "# Convert pandas DataFrames to Hugging Face Dataset objects\n",
    "train_dataset = Dataset.from_pandas(train_df)\n",
    "valid_dataset = Dataset.from_pandas(valid_df)\n",
    "test_dataset = Dataset.from_pandas(test_df)\n"
   ]
  },
  {
   "cell_type": "code",
   "execution_count": 4,
   "metadata": {},
   "outputs": [
    {
     "data": {
      "application/vnd.jupyter.widget-view+json": {
       "model_id": "565fc1b1309e43ffa2a3e8975da4ff9a",
       "version_major": 2,
       "version_minor": 0
      },
      "text/plain": [
       "Map:   0%|          | 0/293298 [00:00<?, ? examples/s]"
      ]
     },
     "metadata": {},
     "output_type": "display_data"
    },
    {
     "name": "stderr",
     "output_type": "stream",
     "text": [
      "Be aware, overflowing tokens are not returned for the setting you have chosen, i.e. sequence pairs with the 'longest_first' truncation strategy. So the returned list will always be empty even if some tokens have been removed.\n",
      "Be aware, overflowing tokens are not returned for the setting you have chosen, i.e. sequence pairs with the 'longest_first' truncation strategy. So the returned list will always be empty even if some tokens have been removed.\n",
      "Be aware, overflowing tokens are not returned for the setting you have chosen, i.e. sequence pairs with the 'longest_first' truncation strategy. So the returned list will always be empty even if some tokens have been removed.\n",
      "Be aware, overflowing tokens are not returned for the setting you have chosen, i.e. sequence pairs with the 'longest_first' truncation strategy. So the returned list will always be empty even if some tokens have been removed.\n",
      "Be aware, overflowing tokens are not returned for the setting you have chosen, i.e. sequence pairs with the 'longest_first' truncation strategy. So the returned list will always be empty even if some tokens have been removed.\n",
      "Be aware, overflowing tokens are not returned for the setting you have chosen, i.e. sequence pairs with the 'longest_first' truncation strategy. So the returned list will always be empty even if some tokens have been removed.\n",
      "Be aware, overflowing tokens are not returned for the setting you have chosen, i.e. sequence pairs with the 'longest_first' truncation strategy. So the returned list will always be empty even if some tokens have been removed.\n",
      "Be aware, overflowing tokens are not returned for the setting you have chosen, i.e. sequence pairs with the 'longest_first' truncation strategy. So the returned list will always be empty even if some tokens have been removed.\n",
      "Be aware, overflowing tokens are not returned for the setting you have chosen, i.e. sequence pairs with the 'longest_first' truncation strategy. So the returned list will always be empty even if some tokens have been removed.\n",
      "Be aware, overflowing tokens are not returned for the setting you have chosen, i.e. sequence pairs with the 'longest_first' truncation strategy. So the returned list will always be empty even if some tokens have been removed.\n",
      "Be aware, overflowing tokens are not returned for the setting you have chosen, i.e. sequence pairs with the 'longest_first' truncation strategy. So the returned list will always be empty even if some tokens have been removed.\n",
      "Be aware, overflowing tokens are not returned for the setting you have chosen, i.e. sequence pairs with the 'longest_first' truncation strategy. So the returned list will always be empty even if some tokens have been removed.\n",
      "Be aware, overflowing tokens are not returned for the setting you have chosen, i.e. sequence pairs with the 'longest_first' truncation strategy. So the returned list will always be empty even if some tokens have been removed.\n",
      "Be aware, overflowing tokens are not returned for the setting you have chosen, i.e. sequence pairs with the 'longest_first' truncation strategy. So the returned list will always be empty even if some tokens have been removed.\n",
      "Be aware, overflowing tokens are not returned for the setting you have chosen, i.e. sequence pairs with the 'longest_first' truncation strategy. So the returned list will always be empty even if some tokens have been removed.\n",
      "Be aware, overflowing tokens are not returned for the setting you have chosen, i.e. sequence pairs with the 'longest_first' truncation strategy. So the returned list will always be empty even if some tokens have been removed.\n",
      "Be aware, overflowing tokens are not returned for the setting you have chosen, i.e. sequence pairs with the 'longest_first' truncation strategy. So the returned list will always be empty even if some tokens have been removed.\n",
      "Be aware, overflowing tokens are not returned for the setting you have chosen, i.e. sequence pairs with the 'longest_first' truncation strategy. So the returned list will always be empty even if some tokens have been removed.\n",
      "Be aware, overflowing tokens are not returned for the setting you have chosen, i.e. sequence pairs with the 'longest_first' truncation strategy. So the returned list will always be empty even if some tokens have been removed.\n",
      "Be aware, overflowing tokens are not returned for the setting you have chosen, i.e. sequence pairs with the 'longest_first' truncation strategy. So the returned list will always be empty even if some tokens have been removed.\n",
      "Be aware, overflowing tokens are not returned for the setting you have chosen, i.e. sequence pairs with the 'longest_first' truncation strategy. So the returned list will always be empty even if some tokens have been removed.\n",
      "Be aware, overflowing tokens are not returned for the setting you have chosen, i.e. sequence pairs with the 'longest_first' truncation strategy. So the returned list will always be empty even if some tokens have been removed.\n",
      "Be aware, overflowing tokens are not returned for the setting you have chosen, i.e. sequence pairs with the 'longest_first' truncation strategy. So the returned list will always be empty even if some tokens have been removed.\n",
      "Be aware, overflowing tokens are not returned for the setting you have chosen, i.e. sequence pairs with the 'longest_first' truncation strategy. So the returned list will always be empty even if some tokens have been removed.\n",
      "Be aware, overflowing tokens are not returned for the setting you have chosen, i.e. sequence pairs with the 'longest_first' truncation strategy. So the returned list will always be empty even if some tokens have been removed.\n",
      "Be aware, overflowing tokens are not returned for the setting you have chosen, i.e. sequence pairs with the 'longest_first' truncation strategy. So the returned list will always be empty even if some tokens have been removed.\n",
      "Be aware, overflowing tokens are not returned for the setting you have chosen, i.e. sequence pairs with the 'longest_first' truncation strategy. So the returned list will always be empty even if some tokens have been removed.\n",
      "Be aware, overflowing tokens are not returned for the setting you have chosen, i.e. sequence pairs with the 'longest_first' truncation strategy. So the returned list will always be empty even if some tokens have been removed.\n",
      "Be aware, overflowing tokens are not returned for the setting you have chosen, i.e. sequence pairs with the 'longest_first' truncation strategy. So the returned list will always be empty even if some tokens have been removed.\n",
      "Be aware, overflowing tokens are not returned for the setting you have chosen, i.e. sequence pairs with the 'longest_first' truncation strategy. So the returned list will always be empty even if some tokens have been removed.\n",
      "Be aware, overflowing tokens are not returned for the setting you have chosen, i.e. sequence pairs with the 'longest_first' truncation strategy. So the returned list will always be empty even if some tokens have been removed.\n",
      "Be aware, overflowing tokens are not returned for the setting you have chosen, i.e. sequence pairs with the 'longest_first' truncation strategy. So the returned list will always be empty even if some tokens have been removed.\n",
      "Be aware, overflowing tokens are not returned for the setting you have chosen, i.e. sequence pairs with the 'longest_first' truncation strategy. So the returned list will always be empty even if some tokens have been removed.\n",
      "Be aware, overflowing tokens are not returned for the setting you have chosen, i.e. sequence pairs with the 'longest_first' truncation strategy. So the returned list will always be empty even if some tokens have been removed.\n",
      "Be aware, overflowing tokens are not returned for the setting you have chosen, i.e. sequence pairs with the 'longest_first' truncation strategy. So the returned list will always be empty even if some tokens have been removed.\n",
      "Be aware, overflowing tokens are not returned for the setting you have chosen, i.e. sequence pairs with the 'longest_first' truncation strategy. So the returned list will always be empty even if some tokens have been removed.\n",
      "Be aware, overflowing tokens are not returned for the setting you have chosen, i.e. sequence pairs with the 'longest_first' truncation strategy. So the returned list will always be empty even if some tokens have been removed.\n",
      "Be aware, overflowing tokens are not returned for the setting you have chosen, i.e. sequence pairs with the 'longest_first' truncation strategy. So the returned list will always be empty even if some tokens have been removed.\n",
      "Be aware, overflowing tokens are not returned for the setting you have chosen, i.e. sequence pairs with the 'longest_first' truncation strategy. So the returned list will always be empty even if some tokens have been removed.\n",
      "Be aware, overflowing tokens are not returned for the setting you have chosen, i.e. sequence pairs with the 'longest_first' truncation strategy. So the returned list will always be empty even if some tokens have been removed.\n",
      "Be aware, overflowing tokens are not returned for the setting you have chosen, i.e. sequence pairs with the 'longest_first' truncation strategy. So the returned list will always be empty even if some tokens have been removed.\n",
      "Be aware, overflowing tokens are not returned for the setting you have chosen, i.e. sequence pairs with the 'longest_first' truncation strategy. So the returned list will always be empty even if some tokens have been removed.\n",
      "Be aware, overflowing tokens are not returned for the setting you have chosen, i.e. sequence pairs with the 'longest_first' truncation strategy. So the returned list will always be empty even if some tokens have been removed.\n",
      "Be aware, overflowing tokens are not returned for the setting you have chosen, i.e. sequence pairs with the 'longest_first' truncation strategy. So the returned list will always be empty even if some tokens have been removed.\n",
      "Be aware, overflowing tokens are not returned for the setting you have chosen, i.e. sequence pairs with the 'longest_first' truncation strategy. So the returned list will always be empty even if some tokens have been removed.\n",
      "Be aware, overflowing tokens are not returned for the setting you have chosen, i.e. sequence pairs with the 'longest_first' truncation strategy. So the returned list will always be empty even if some tokens have been removed.\n",
      "Be aware, overflowing tokens are not returned for the setting you have chosen, i.e. sequence pairs with the 'longest_first' truncation strategy. So the returned list will always be empty even if some tokens have been removed.\n",
      "Be aware, overflowing tokens are not returned for the setting you have chosen, i.e. sequence pairs with the 'longest_first' truncation strategy. So the returned list will always be empty even if some tokens have been removed.\n",
      "Be aware, overflowing tokens are not returned for the setting you have chosen, i.e. sequence pairs with the 'longest_first' truncation strategy. So the returned list will always be empty even if some tokens have been removed.\n",
      "Be aware, overflowing tokens are not returned for the setting you have chosen, i.e. sequence pairs with the 'longest_first' truncation strategy. So the returned list will always be empty even if some tokens have been removed.\n",
      "Be aware, overflowing tokens are not returned for the setting you have chosen, i.e. sequence pairs with the 'longest_first' truncation strategy. So the returned list will always be empty even if some tokens have been removed.\n",
      "Be aware, overflowing tokens are not returned for the setting you have chosen, i.e. sequence pairs with the 'longest_first' truncation strategy. So the returned list will always be empty even if some tokens have been removed.\n",
      "Be aware, overflowing tokens are not returned for the setting you have chosen, i.e. sequence pairs with the 'longest_first' truncation strategy. So the returned list will always be empty even if some tokens have been removed.\n",
      "Be aware, overflowing tokens are not returned for the setting you have chosen, i.e. sequence pairs with the 'longest_first' truncation strategy. So the returned list will always be empty even if some tokens have been removed.\n",
      "Be aware, overflowing tokens are not returned for the setting you have chosen, i.e. sequence pairs with the 'longest_first' truncation strategy. So the returned list will always be empty even if some tokens have been removed.\n",
      "Be aware, overflowing tokens are not returned for the setting you have chosen, i.e. sequence pairs with the 'longest_first' truncation strategy. So the returned list will always be empty even if some tokens have been removed.\n",
      "Be aware, overflowing tokens are not returned for the setting you have chosen, i.e. sequence pairs with the 'longest_first' truncation strategy. So the returned list will always be empty even if some tokens have been removed.\n",
      "Be aware, overflowing tokens are not returned for the setting you have chosen, i.e. sequence pairs with the 'longest_first' truncation strategy. So the returned list will always be empty even if some tokens have been removed.\n",
      "Be aware, overflowing tokens are not returned for the setting you have chosen, i.e. sequence pairs with the 'longest_first' truncation strategy. So the returned list will always be empty even if some tokens have been removed.\n",
      "Be aware, overflowing tokens are not returned for the setting you have chosen, i.e. sequence pairs with the 'longest_first' truncation strategy. So the returned list will always be empty even if some tokens have been removed.\n",
      "Be aware, overflowing tokens are not returned for the setting you have chosen, i.e. sequence pairs with the 'longest_first' truncation strategy. So the returned list will always be empty even if some tokens have been removed.\n",
      "Be aware, overflowing tokens are not returned for the setting you have chosen, i.e. sequence pairs with the 'longest_first' truncation strategy. So the returned list will always be empty even if some tokens have been removed.\n",
      "Be aware, overflowing tokens are not returned for the setting you have chosen, i.e. sequence pairs with the 'longest_first' truncation strategy. So the returned list will always be empty even if some tokens have been removed.\n",
      "Be aware, overflowing tokens are not returned for the setting you have chosen, i.e. sequence pairs with the 'longest_first' truncation strategy. So the returned list will always be empty even if some tokens have been removed.\n",
      "Be aware, overflowing tokens are not returned for the setting you have chosen, i.e. sequence pairs with the 'longest_first' truncation strategy. So the returned list will always be empty even if some tokens have been removed.\n",
      "Be aware, overflowing tokens are not returned for the setting you have chosen, i.e. sequence pairs with the 'longest_first' truncation strategy. So the returned list will always be empty even if some tokens have been removed.\n",
      "Be aware, overflowing tokens are not returned for the setting you have chosen, i.e. sequence pairs with the 'longest_first' truncation strategy. So the returned list will always be empty even if some tokens have been removed.\n",
      "Be aware, overflowing tokens are not returned for the setting you have chosen, i.e. sequence pairs with the 'longest_first' truncation strategy. So the returned list will always be empty even if some tokens have been removed.\n",
      "Be aware, overflowing tokens are not returned for the setting you have chosen, i.e. sequence pairs with the 'longest_first' truncation strategy. So the returned list will always be empty even if some tokens have been removed.\n",
      "Be aware, overflowing tokens are not returned for the setting you have chosen, i.e. sequence pairs with the 'longest_first' truncation strategy. So the returned list will always be empty even if some tokens have been removed.\n",
      "Be aware, overflowing tokens are not returned for the setting you have chosen, i.e. sequence pairs with the 'longest_first' truncation strategy. So the returned list will always be empty even if some tokens have been removed.\n",
      "Be aware, overflowing tokens are not returned for the setting you have chosen, i.e. sequence pairs with the 'longest_first' truncation strategy. So the returned list will always be empty even if some tokens have been removed.\n",
      "Be aware, overflowing tokens are not returned for the setting you have chosen, i.e. sequence pairs with the 'longest_first' truncation strategy. So the returned list will always be empty even if some tokens have been removed.\n",
      "Be aware, overflowing tokens are not returned for the setting you have chosen, i.e. sequence pairs with the 'longest_first' truncation strategy. So the returned list will always be empty even if some tokens have been removed.\n",
      "Be aware, overflowing tokens are not returned for the setting you have chosen, i.e. sequence pairs with the 'longest_first' truncation strategy. So the returned list will always be empty even if some tokens have been removed.\n",
      "Be aware, overflowing tokens are not returned for the setting you have chosen, i.e. sequence pairs with the 'longest_first' truncation strategy. So the returned list will always be empty even if some tokens have been removed.\n",
      "Be aware, overflowing tokens are not returned for the setting you have chosen, i.e. sequence pairs with the 'longest_first' truncation strategy. So the returned list will always be empty even if some tokens have been removed.\n",
      "Be aware, overflowing tokens are not returned for the setting you have chosen, i.e. sequence pairs with the 'longest_first' truncation strategy. So the returned list will always be empty even if some tokens have been removed.\n",
      "Be aware, overflowing tokens are not returned for the setting you have chosen, i.e. sequence pairs with the 'longest_first' truncation strategy. So the returned list will always be empty even if some tokens have been removed.\n",
      "Be aware, overflowing tokens are not returned for the setting you have chosen, i.e. sequence pairs with the 'longest_first' truncation strategy. So the returned list will always be empty even if some tokens have been removed.\n",
      "Be aware, overflowing tokens are not returned for the setting you have chosen, i.e. sequence pairs with the 'longest_first' truncation strategy. So the returned list will always be empty even if some tokens have been removed.\n",
      "Be aware, overflowing tokens are not returned for the setting you have chosen, i.e. sequence pairs with the 'longest_first' truncation strategy. So the returned list will always be empty even if some tokens have been removed.\n",
      "Be aware, overflowing tokens are not returned for the setting you have chosen, i.e. sequence pairs with the 'longest_first' truncation strategy. So the returned list will always be empty even if some tokens have been removed.\n",
      "Be aware, overflowing tokens are not returned for the setting you have chosen, i.e. sequence pairs with the 'longest_first' truncation strategy. So the returned list will always be empty even if some tokens have been removed.\n",
      "Be aware, overflowing tokens are not returned for the setting you have chosen, i.e. sequence pairs with the 'longest_first' truncation strategy. So the returned list will always be empty even if some tokens have been removed.\n",
      "Be aware, overflowing tokens are not returned for the setting you have chosen, i.e. sequence pairs with the 'longest_first' truncation strategy. So the returned list will always be empty even if some tokens have been removed.\n",
      "Be aware, overflowing tokens are not returned for the setting you have chosen, i.e. sequence pairs with the 'longest_first' truncation strategy. So the returned list will always be empty even if some tokens have been removed.\n",
      "Be aware, overflowing tokens are not returned for the setting you have chosen, i.e. sequence pairs with the 'longest_first' truncation strategy. So the returned list will always be empty even if some tokens have been removed.\n",
      "Be aware, overflowing tokens are not returned for the setting you have chosen, i.e. sequence pairs with the 'longest_first' truncation strategy. So the returned list will always be empty even if some tokens have been removed.\n",
      "Be aware, overflowing tokens are not returned for the setting you have chosen, i.e. sequence pairs with the 'longest_first' truncation strategy. So the returned list will always be empty even if some tokens have been removed.\n",
      "Be aware, overflowing tokens are not returned for the setting you have chosen, i.e. sequence pairs with the 'longest_first' truncation strategy. So the returned list will always be empty even if some tokens have been removed.\n",
      "Be aware, overflowing tokens are not returned for the setting you have chosen, i.e. sequence pairs with the 'longest_first' truncation strategy. So the returned list will always be empty even if some tokens have been removed.\n"
     ]
    },
    {
     "data": {
      "application/vnd.jupyter.widget-view+json": {
       "model_id": "4ef2a32f80594ed6bce4ea266f5c8e29",
       "version_major": 2,
       "version_minor": 0
      },
      "text/plain": [
       "Map:   0%|          | 0/5000 [00:00<?, ? examples/s]"
      ]
     },
     "metadata": {},
     "output_type": "display_data"
    },
    {
     "name": "stderr",
     "output_type": "stream",
     "text": [
      "Be aware, overflowing tokens are not returned for the setting you have chosen, i.e. sequence pairs with the 'longest_first' truncation strategy. So the returned list will always be empty even if some tokens have been removed.\n",
      "Be aware, overflowing tokens are not returned for the setting you have chosen, i.e. sequence pairs with the 'longest_first' truncation strategy. So the returned list will always be empty even if some tokens have been removed.\n",
      "Be aware, overflowing tokens are not returned for the setting you have chosen, i.e. sequence pairs with the 'longest_first' truncation strategy. So the returned list will always be empty even if some tokens have been removed.\n"
     ]
    },
    {
     "data": {
      "application/vnd.jupyter.widget-view+json": {
       "model_id": "42401255cb4141799b89e076a74ed992",
       "version_major": 2,
       "version_minor": 0
      },
      "text/plain": [
       "Map:   0%|          | 0/5000 [00:00<?, ? examples/s]"
      ]
     },
     "metadata": {},
     "output_type": "display_data"
    },
    {
     "name": "stderr",
     "output_type": "stream",
     "text": [
      "Be aware, overflowing tokens are not returned for the setting you have chosen, i.e. sequence pairs with the 'longest_first' truncation strategy. So the returned list will always be empty even if some tokens have been removed.\n"
     ]
    }
   ],
   "source": [
    "# Load the tokenizer for BERT\n",
    "tokenizer = BertTokenizer.from_pretrained('onlplab/alephbert-base')\n",
    "label_mapping = {'contradiction': 0, 'entailment': 1, 'neutral': 2}\n",
    "\n",
    "\n",
    "# Define a function to preprocess the input data\n",
    "def preprocess_function(examples):\n",
    "    # Tokenize the inputs (translation1 and translation2)\n",
    "    inputs = tokenizer(\n",
    "        examples['translation1'], \n",
    "        examples['translation2'], \n",
    "        truncation=True, \n",
    "        padding='max_length', \n",
    "        max_length=128  # Or another max length depending on your needs\n",
    "    )\n",
    "    \n",
    "    # Map the annotator_labels to numerical labels if needed\n",
    "    # inputs['labels'] = examples['gold_label']\n",
    "    inputs['labels'] = [label_mapping[label] for label in examples['gold_label']]\n",
    "\n",
    "    return inputs\n",
    "\n",
    "# Apply the preprocessing function to the datasets\n",
    "train_dataset = train_dataset.map(preprocess_function,batched=True)\n",
    "# train_dataset = train_dataset.map(preprocess_function, batched=True)\n",
    "valid_dataset = valid_dataset.map(preprocess_function, batched=True)\n",
    "test_dataset = test_dataset.map(preprocess_function, batched=True)\n",
    "\n",
    "# Load the pretrained BERT model for sequence classification"
   ]
  },
  {
   "cell_type": "code",
   "execution_count": 5,
   "metadata": {},
   "outputs": [],
   "source": [
    "from sklearn.metrics import accuracy_score\n",
    "def compute_metrics(eval_pred):\n",
    "    logits, labels = eval_pred\n",
    "    predictions = logits.argmax(axis=-1)\n",
    "    accuracy = accuracy_score(labels, predictions)\n",
    "    return {\"accuracy\": accuracy}\n"
   ]
  },
  {
   "cell_type": "code",
   "execution_count": 6,
   "metadata": {},
   "outputs": [
    {
     "name": "stderr",
     "output_type": "stream",
     "text": [
      "Some weights of BertForSequenceClassification were not initialized from the model checkpoint at onlplab/alephbert-base and are newly initialized: ['bert.pooler.dense.bias', 'bert.pooler.dense.weight', 'classifier.bias', 'classifier.weight']\n",
      "You should probably TRAIN this model on a down-stream task to be able to use it for predictions and inference.\n",
      "/Users/hadare/Documents/CodingProjects/SBERT/sbert/lib/python3.10/site-packages/transformers/training_args.py:1525: FutureWarning: `evaluation_strategy` is deprecated and will be removed in version 4.46 of 🤗 Transformers. Use `eval_strategy` instead\n",
      "  warnings.warn(\n"
     ]
    }
   ],
   "source": [
    "\n",
    "model = BertForSequenceClassification.from_pretrained('onlplab/alephbert-base', num_labels=3)  # Change num_labels to match the number of classes in your NLI task\n",
    "# tokenizer = BertTokenizerFast.from_pretrained('onlplab/alephbert-base')\n",
    "# model = BertModel.from_pretrained('onlplab/alephbert-base')\n",
    "# Create a data collator that will dynamically pad the inputs during training\n",
    "data_collator = DataCollatorWithPadding(tokenizer=tokenizer)\n",
    "\n",
    "model.to(device)\n",
    "\n",
    "# Set up the training arguments\n",
    "training_args = TrainingArguments(\n",
    "    output_dir=\"./results\",          # Output directory\n",
    "    evaluation_strategy=\"epoch\",     # Evaluation is done at the end of each epoch\n",
    "    learning_rate=2e-5,              # Learning rate\n",
    "    per_device_train_batch_size=16,  # Batch size for training\n",
    "    per_device_eval_batch_size=16,   # Batch size for evaluation\n",
    "    num_train_epochs=3,              # Number of epochs to train\n",
    "    weight_decay=0.01,               # Strength of weight decay\n",
    ")\n",
    "\n",
    "# Initialize the Trainer\n",
    "trainer = Trainer(\n",
    "    model=model,                         # The instantiated 🤗 Transformers model to be trained\n",
    "    args=training_args,                  # Training arguments\n",
    "    train_dataset=train_dataset,         # Training dataset\n",
    "    eval_dataset=valid_dataset,          # Evaluation dataset\n",
    "    tokenizer=tokenizer,                 # Tokenizer\n",
    "    data_collator=data_collator,          # Data collator\n",
    "    compute_metrics=compute_metrics      # Custom metrics function\n",
    ")\n",
    "\n"
   ]
  },
  {
   "cell_type": "code",
   "execution_count": 7,
   "metadata": {},
   "outputs": [
    {
     "data": {
      "application/vnd.jupyter.widget-view+json": {
       "model_id": "186821992fc849588bc8dd28ef618a30",
       "version_major": 2,
       "version_minor": 0
      },
      "text/plain": [
       "  0%|          | 0/313 [00:00<?, ?it/s]"
      ]
     },
     "metadata": {},
     "output_type": "display_data"
    },
    {
     "name": "stdout",
     "output_type": "stream",
     "text": [
      "Evaluation Results: {'eval_loss': 1.1120027303695679, 'eval_model_preparation_time': 0.0013, 'eval_accuracy': 0.3448, 'eval_runtime': 38.4363, 'eval_samples_per_second': 130.085, 'eval_steps_per_second': 8.143}\n"
     ]
    },
    {
     "data": {
      "application/vnd.jupyter.widget-view+json": {
       "model_id": "7d13f70678d24d579003f62c1e9bf843",
       "version_major": 2,
       "version_minor": 0
      },
      "text/plain": [
       "  0%|          | 0/54996 [00:00<?, ?it/s]"
      ]
     },
     "metadata": {},
     "output_type": "display_data"
    },
    {
     "name": "stdout",
     "output_type": "stream",
     "text": [
      "{'loss': 0.9812, 'grad_norm': 8.168329238891602, 'learning_rate': 1.9818168594079573e-05, 'epoch': 0.03}\n",
      "{'loss': 0.8815, 'grad_norm': 6.46674108505249, 'learning_rate': 1.963633718815914e-05, 'epoch': 0.05}\n",
      "{'loss': 0.8388, 'grad_norm': 8.541193008422852, 'learning_rate': 1.945450578223871e-05, 'epoch': 0.08}\n",
      "{'loss': 0.7981, 'grad_norm': 8.38892650604248, 'learning_rate': 1.9272674376318278e-05, 'epoch': 0.11}\n",
      "{'loss': 0.7952, 'grad_norm': 9.508397102355957, 'learning_rate': 1.909084297039785e-05, 'epoch': 0.14}\n",
      "{'loss': 0.7824, 'grad_norm': 7.208209991455078, 'learning_rate': 1.8909011564477418e-05, 'epoch': 0.16}\n",
      "{'loss': 0.7669, 'grad_norm': 11.646167755126953, 'learning_rate': 1.8727180158556986e-05, 'epoch': 0.19}\n",
      "{'loss': 0.7657, 'grad_norm': 5.550448894500732, 'learning_rate': 1.8545348752636555e-05, 'epoch': 0.22}\n",
      "{'loss': 0.7575, 'grad_norm': 9.523566246032715, 'learning_rate': 1.8363517346716126e-05, 'epoch': 0.25}\n",
      "{'loss': 0.7404, 'grad_norm': 7.511907577514648, 'learning_rate': 1.8181685940795694e-05, 'epoch': 0.27}\n",
      "{'loss': 0.7188, 'grad_norm': 12.076533317565918, 'learning_rate': 1.7999854534875266e-05, 'epoch': 0.3}\n",
      "{'loss': 0.7303, 'grad_norm': 8.573186874389648, 'learning_rate': 1.7818023128954834e-05, 'epoch': 0.33}\n",
      "{'loss': 0.7209, 'grad_norm': 8.816089630126953, 'learning_rate': 1.7636191723034403e-05, 'epoch': 0.35}\n",
      "{'loss': 0.7292, 'grad_norm': 7.176348686218262, 'learning_rate': 1.7454360317113974e-05, 'epoch': 0.38}\n",
      "{'loss': 0.6953, 'grad_norm': 7.818338871002197, 'learning_rate': 1.7272528911193543e-05, 'epoch': 0.41}\n",
      "{'loss': 0.7166, 'grad_norm': 11.357258796691895, 'learning_rate': 1.7090697505273114e-05, 'epoch': 0.44}\n",
      "{'loss': 0.6952, 'grad_norm': 6.956666469573975, 'learning_rate': 1.6908866099352682e-05, 'epoch': 0.46}\n",
      "{'loss': 0.6909, 'grad_norm': 16.12421226501465, 'learning_rate': 1.672703469343225e-05, 'epoch': 0.49}\n",
      "{'loss': 0.695, 'grad_norm': 11.900429725646973, 'learning_rate': 1.654520328751182e-05, 'epoch': 0.52}\n",
      "{'loss': 0.6865, 'grad_norm': 7.412017345428467, 'learning_rate': 1.636337188159139e-05, 'epoch': 0.55}\n",
      "{'loss': 0.6677, 'grad_norm': 16.09174346923828, 'learning_rate': 1.618154047567096e-05, 'epoch': 0.57}\n",
      "{'loss': 0.6812, 'grad_norm': 6.286846160888672, 'learning_rate': 1.5999709069750527e-05, 'epoch': 0.6}\n",
      "{'loss': 0.6847, 'grad_norm': 22.315095901489258, 'learning_rate': 1.58178776638301e-05, 'epoch': 0.63}\n",
      "{'loss': 0.6778, 'grad_norm': 7.853555679321289, 'learning_rate': 1.5636046257909667e-05, 'epoch': 0.65}\n",
      "{'loss': 0.6676, 'grad_norm': 8.686227798461914, 'learning_rate': 1.545421485198924e-05, 'epoch': 0.68}\n",
      "{'loss': 0.6714, 'grad_norm': 6.857572078704834, 'learning_rate': 1.5272383446068807e-05, 'epoch': 0.71}\n",
      "{'loss': 0.6592, 'grad_norm': 5.376169204711914, 'learning_rate': 1.5090552040148377e-05, 'epoch': 0.74}\n",
      "{'loss': 0.6559, 'grad_norm': 9.69792366027832, 'learning_rate': 1.4908720634227945e-05, 'epoch': 0.76}\n",
      "{'loss': 0.6628, 'grad_norm': 7.221218585968018, 'learning_rate': 1.4726889228307515e-05, 'epoch': 0.79}\n",
      "{'loss': 0.6545, 'grad_norm': 7.9941935539245605, 'learning_rate': 1.4545057822387083e-05, 'epoch': 0.82}\n",
      "{'loss': 0.6421, 'grad_norm': 5.547129154205322, 'learning_rate': 1.4363226416466653e-05, 'epoch': 0.85}\n",
      "{'loss': 0.6501, 'grad_norm': 11.303378105163574, 'learning_rate': 1.4181395010546222e-05, 'epoch': 0.87}\n",
      "{'loss': 0.6381, 'grad_norm': 8.717460632324219, 'learning_rate': 1.3999563604625792e-05, 'epoch': 0.9}\n",
      "{'loss': 0.621, 'grad_norm': 9.091825485229492, 'learning_rate': 1.3817732198705363e-05, 'epoch': 0.93}\n",
      "{'loss': 0.6399, 'grad_norm': 9.524884223937988, 'learning_rate': 1.3635900792784932e-05, 'epoch': 0.95}\n",
      "{'loss': 0.6597, 'grad_norm': 5.336030006408691, 'learning_rate': 1.3454069386864501e-05, 'epoch': 0.98}\n"
     ]
    },
    {
     "data": {
      "application/vnd.jupyter.widget-view+json": {
       "model_id": "1fd194c2360a4300af6c75d48f8a3c89",
       "version_major": 2,
       "version_minor": 0
      },
      "text/plain": [
       "  0%|          | 0/313 [00:00<?, ?it/s]"
      ]
     },
     "metadata": {},
     "output_type": "display_data"
    },
    {
     "name": "stdout",
     "output_type": "stream",
     "text": [
      "{'eval_loss': 0.599687397480011, 'eval_model_preparation_time': 0.0013, 'eval_accuracy': 0.7546, 'eval_runtime': 37.139, 'eval_samples_per_second': 134.629, 'eval_steps_per_second': 8.428, 'epoch': 1.0}\n",
      "{'loss': 0.5999, 'grad_norm': 9.894014358520508, 'learning_rate': 1.327223798094407e-05, 'epoch': 1.01}\n",
      "{'loss': 0.5137, 'grad_norm': 13.78271770477295, 'learning_rate': 1.309040657502364e-05, 'epoch': 1.04}\n",
      "{'loss': 0.5148, 'grad_norm': 12.74290657043457, 'learning_rate': 1.2908575169103208e-05, 'epoch': 1.06}\n",
      "{'loss': 0.5064, 'grad_norm': 7.268828868865967, 'learning_rate': 1.2726743763182778e-05, 'epoch': 1.09}\n",
      "{'loss': 0.5173, 'grad_norm': 8.556841850280762, 'learning_rate': 1.2544912357262346e-05, 'epoch': 1.12}\n",
      "{'loss': 0.5253, 'grad_norm': 10.969468116760254, 'learning_rate': 1.2363080951341916e-05, 'epoch': 1.15}\n",
      "{'loss': 0.5127, 'grad_norm': 9.24118423461914, 'learning_rate': 1.2181249545421484e-05, 'epoch': 1.17}\n",
      "{'loss': 0.5209, 'grad_norm': 8.834582328796387, 'learning_rate': 1.1999418139501056e-05, 'epoch': 1.2}\n",
      "{'loss': 0.5216, 'grad_norm': 10.832715034484863, 'learning_rate': 1.1817586733580626e-05, 'epoch': 1.23}\n",
      "{'loss': 0.5254, 'grad_norm': 4.9756178855896, 'learning_rate': 1.1635755327660194e-05, 'epoch': 1.25}\n",
      "{'loss': 0.4995, 'grad_norm': 7.2331318855285645, 'learning_rate': 1.1453923921739764e-05, 'epoch': 1.28}\n",
      "{'loss': 0.5119, 'grad_norm': 9.035040855407715, 'learning_rate': 1.1272092515819333e-05, 'epoch': 1.31}\n",
      "{'loss': 0.5189, 'grad_norm': 13.009723663330078, 'learning_rate': 1.1090261109898902e-05, 'epoch': 1.34}\n",
      "{'loss': 0.5177, 'grad_norm': 7.447347640991211, 'learning_rate': 1.090842970397847e-05, 'epoch': 1.36}\n",
      "{'loss': 0.5089, 'grad_norm': 7.052089214324951, 'learning_rate': 1.0726598298058042e-05, 'epoch': 1.39}\n",
      "{'loss': 0.5127, 'grad_norm': 11.054596900939941, 'learning_rate': 1.054476689213761e-05, 'epoch': 1.42}\n",
      "{'loss': 0.5186, 'grad_norm': 8.587899208068848, 'learning_rate': 1.036293548621718e-05, 'epoch': 1.45}\n",
      "{'loss': 0.5118, 'grad_norm': 8.340703964233398, 'learning_rate': 1.0181104080296749e-05, 'epoch': 1.47}\n",
      "{'loss': 0.4974, 'grad_norm': 8.867863655090332, 'learning_rate': 9.999272674376319e-06, 'epoch': 1.5}\n",
      "{'loss': 0.5174, 'grad_norm': 10.400801658630371, 'learning_rate': 9.817441268455889e-06, 'epoch': 1.53}\n",
      "{'loss': 0.5235, 'grad_norm': 8.805425643920898, 'learning_rate': 9.635609862535457e-06, 'epoch': 1.55}\n",
      "{'loss': 0.5198, 'grad_norm': 12.817004203796387, 'learning_rate': 9.453778456615027e-06, 'epoch': 1.58}\n",
      "{'loss': 0.5015, 'grad_norm': 19.11957550048828, 'learning_rate': 9.271947050694597e-06, 'epoch': 1.61}\n",
      "{'loss': 0.4906, 'grad_norm': 13.05765438079834, 'learning_rate': 9.090115644774165e-06, 'epoch': 1.64}\n",
      "{'loss': 0.5133, 'grad_norm': 7.087244987487793, 'learning_rate': 8.908284238853735e-06, 'epoch': 1.66}\n",
      "{'loss': 0.5111, 'grad_norm': 8.98046588897705, 'learning_rate': 8.726452832933305e-06, 'epoch': 1.69}\n",
      "{'loss': 0.5054, 'grad_norm': 10.312089920043945, 'learning_rate': 8.544621427012875e-06, 'epoch': 1.72}\n",
      "{'loss': 0.4979, 'grad_norm': 9.59568977355957, 'learning_rate': 8.362790021092443e-06, 'epoch': 1.75}\n",
      "{'loss': 0.5086, 'grad_norm': 11.132354736328125, 'learning_rate': 8.180958615172013e-06, 'epoch': 1.77}\n",
      "{'loss': 0.4979, 'grad_norm': 11.112195014953613, 'learning_rate': 7.999127209251583e-06, 'epoch': 1.8}\n",
      "{'loss': 0.4968, 'grad_norm': 9.632454872131348, 'learning_rate': 7.817295803331152e-06, 'epoch': 1.83}\n",
      "{'loss': 0.5038, 'grad_norm': 7.985938549041748, 'learning_rate': 7.635464397410722e-06, 'epoch': 1.85}\n",
      "{'loss': 0.5122, 'grad_norm': 10.278155326843262, 'learning_rate': 7.453632991490291e-06, 'epoch': 1.88}\n",
      "{'loss': 0.5091, 'grad_norm': 13.811326026916504, 'learning_rate': 7.27180158556986e-06, 'epoch': 1.91}\n",
      "{'loss': 0.5056, 'grad_norm': 22.381471633911133, 'learning_rate': 7.089970179649429e-06, 'epoch': 1.94}\n",
      "{'loss': 0.4746, 'grad_norm': 9.539607048034668, 'learning_rate': 6.908138773729e-06, 'epoch': 1.96}\n",
      "{'loss': 0.4971, 'grad_norm': 8.993124961853027, 'learning_rate': 6.726307367808569e-06, 'epoch': 1.99}\n"
     ]
    },
    {
     "data": {
      "application/vnd.jupyter.widget-view+json": {
       "model_id": "008216254af843f88410d2ddc05ccc43",
       "version_major": 2,
       "version_minor": 0
      },
      "text/plain": [
       "  0%|          | 0/313 [00:00<?, ?it/s]"
      ]
     },
     "metadata": {},
     "output_type": "display_data"
    },
    {
     "name": "stdout",
     "output_type": "stream",
     "text": [
      "{'eval_loss': 0.596453070640564, 'eval_model_preparation_time': 0.0013, 'eval_accuracy': 0.7664, 'eval_runtime': 37.154, 'eval_samples_per_second': 134.575, 'eval_steps_per_second': 8.424, 'epoch': 2.0}\n",
      "{'loss': 0.4041, 'grad_norm': 14.296586990356445, 'learning_rate': 6.544475961888138e-06, 'epoch': 2.02}\n",
      "{'loss': 0.3607, 'grad_norm': 13.009255409240723, 'learning_rate': 6.362644555967708e-06, 'epoch': 2.05}\n",
      "{'loss': 0.3522, 'grad_norm': 15.864368438720703, 'learning_rate': 6.180813150047277e-06, 'epoch': 2.07}\n",
      "{'loss': 0.362, 'grad_norm': 28.352888107299805, 'learning_rate': 5.998981744126846e-06, 'epoch': 2.1}\n",
      "{'loss': 0.3709, 'grad_norm': 15.614493370056152, 'learning_rate': 5.817150338206415e-06, 'epoch': 2.13}\n",
      "{'loss': 0.352, 'grad_norm': 14.010446548461914, 'learning_rate': 5.635318932285984e-06, 'epoch': 2.15}\n",
      "{'loss': 0.3566, 'grad_norm': 17.821733474731445, 'learning_rate': 5.453487526365554e-06, 'epoch': 2.18}\n",
      "{'loss': 0.3595, 'grad_norm': 18.766918182373047, 'learning_rate': 5.271656120445123e-06, 'epoch': 2.21}\n",
      "{'loss': 0.3718, 'grad_norm': 15.552340507507324, 'learning_rate': 5.0898247145246925e-06, 'epoch': 2.24}\n",
      "{'loss': 0.369, 'grad_norm': 22.137361526489258, 'learning_rate': 4.9079933086042624e-06, 'epoch': 2.26}\n",
      "{'loss': 0.3584, 'grad_norm': 17.636192321777344, 'learning_rate': 4.7261619026838315e-06, 'epoch': 2.29}\n",
      "{'loss': 0.3636, 'grad_norm': 7.183920860290527, 'learning_rate': 4.5443304967634015e-06, 'epoch': 2.32}\n",
      "{'loss': 0.3608, 'grad_norm': 13.491158485412598, 'learning_rate': 4.362499090842971e-06, 'epoch': 2.35}\n",
      "{'loss': 0.3559, 'grad_norm': 15.485275268554688, 'learning_rate': 4.1806676849225406e-06, 'epoch': 2.37}\n",
      "{'loss': 0.3695, 'grad_norm': 17.097139358520508, 'learning_rate': 3.99883627900211e-06, 'epoch': 2.4}\n",
      "{'loss': 0.3688, 'grad_norm': 12.08799934387207, 'learning_rate': 3.817004873081679e-06, 'epoch': 2.43}\n",
      "{'loss': 0.3641, 'grad_norm': 14.681781768798828, 'learning_rate': 3.6351734671612483e-06, 'epoch': 2.45}\n",
      "{'loss': 0.3606, 'grad_norm': 8.736983299255371, 'learning_rate': 3.453342061240818e-06, 'epoch': 2.48}\n",
      "{'loss': 0.3487, 'grad_norm': 19.969058990478516, 'learning_rate': 3.2715106553203874e-06, 'epoch': 2.51}\n",
      "{'loss': 0.358, 'grad_norm': 8.368209838867188, 'learning_rate': 3.0896792493999565e-06, 'epoch': 2.54}\n",
      "{'loss': 0.3631, 'grad_norm': 10.985570907592773, 'learning_rate': 2.907847843479526e-06, 'epoch': 2.56}\n",
      "{'loss': 0.3542, 'grad_norm': 12.151528358459473, 'learning_rate': 2.726016437559095e-06, 'epoch': 2.59}\n",
      "{'loss': 0.3457, 'grad_norm': 12.689172744750977, 'learning_rate': 2.5441850316386647e-06, 'epoch': 2.62}\n",
      "{'loss': 0.3555, 'grad_norm': 5.819953918457031, 'learning_rate': 2.3623536257182342e-06, 'epoch': 2.65}\n",
      "{'loss': 0.3434, 'grad_norm': 2.330625295639038, 'learning_rate': 2.1805222197978038e-06, 'epoch': 2.67}\n",
      "{'loss': 0.3516, 'grad_norm': 15.691413879394531, 'learning_rate': 1.998690813877373e-06, 'epoch': 2.7}\n",
      "{'loss': 0.3372, 'grad_norm': 4.612354278564453, 'learning_rate': 1.8168594079569424e-06, 'epoch': 2.73}\n",
      "{'loss': 0.3573, 'grad_norm': 11.046304702758789, 'learning_rate': 1.635028002036512e-06, 'epoch': 2.75}\n",
      "{'loss': 0.3494, 'grad_norm': 13.836091041564941, 'learning_rate': 1.4531965961160813e-06, 'epoch': 2.78}\n",
      "{'loss': 0.3442, 'grad_norm': 11.831160545349121, 'learning_rate': 1.2713651901956506e-06, 'epoch': 2.81}\n",
      "{'loss': 0.3502, 'grad_norm': 19.94534683227539, 'learning_rate': 1.0895337842752201e-06, 'epoch': 2.84}\n",
      "{'loss': 0.3576, 'grad_norm': 14.653267860412598, 'learning_rate': 9.077023783547894e-07, 'epoch': 2.86}\n",
      "{'loss': 0.3485, 'grad_norm': 17.720741271972656, 'learning_rate': 7.258709724343589e-07, 'epoch': 2.89}\n",
      "{'loss': 0.3583, 'grad_norm': 10.304091453552246, 'learning_rate': 5.440395665139284e-07, 'epoch': 2.92}\n",
      "{'loss': 0.3378, 'grad_norm': 9.402070045471191, 'learning_rate': 3.6220816059349773e-07, 'epoch': 2.95}\n",
      "{'loss': 0.3611, 'grad_norm': 12.741415023803711, 'learning_rate': 1.8037675467306716e-07, 'epoch': 2.97}\n"
     ]
    },
    {
     "data": {
      "application/vnd.jupyter.widget-view+json": {
       "model_id": "248c38a0f28243b080133c6beb22cc07",
       "version_major": 2,
       "version_minor": 0
      },
      "text/plain": [
       "  0%|          | 0/313 [00:00<?, ?it/s]"
      ]
     },
     "metadata": {},
     "output_type": "display_data"
    },
    {
     "name": "stdout",
     "output_type": "stream",
     "text": [
      "{'eval_loss': 0.6620648503303528, 'eval_model_preparation_time': 0.0013, 'eval_accuracy': 0.7728, 'eval_runtime': 37.2683, 'eval_samples_per_second': 134.162, 'eval_steps_per_second': 8.399, 'epoch': 3.0}\n",
      "{'train_runtime': 22235.6346, 'train_samples_per_second': 39.571, 'train_steps_per_second': 2.473, 'train_loss': 0.5262135017290143, 'epoch': 3.0}\n"
     ]
    },
    {
     "data": {
      "application/vnd.jupyter.widget-view+json": {
       "model_id": "f5b922f3d6264bac8803af74861761b4",
       "version_major": 2,
       "version_minor": 0
      },
      "text/plain": [
       "  0%|          | 0/313 [00:00<?, ?it/s]"
      ]
     },
     "metadata": {},
     "output_type": "display_data"
    },
    {
     "name": "stdout",
     "output_type": "stream",
     "text": [
      "Evaluation Results: {'eval_loss': 0.6620648503303528, 'eval_model_preparation_time': 0.0013, 'eval_accuracy': 0.7728, 'eval_runtime': 37.0467, 'eval_samples_per_second': 134.965, 'eval_steps_per_second': 8.449, 'epoch': 3.0}\n"
     ]
    },
    {
     "data": {
      "text/plain": [
       "('your_model_directory/tokenizer_config.json',\n",
       " 'your_model_directory/special_tokens_map.json',\n",
       " 'your_model_directory/vocab.txt',\n",
       " 'your_model_directory/added_tokens.json')"
      ]
     },
     "execution_count": 7,
     "metadata": {},
     "output_type": "execute_result"
    }
   ],
   "source": [
    "eval_results = trainer.evaluate()\n",
    "\n",
    "print(f\"Evaluation Results: {eval_results}\")\n",
    "\n",
    "# Fine-Tune the Model\n",
    "trainer.train()\n",
    "\n",
    "# Evaluate the Model\n",
    "eval_results = trainer.evaluate()\n",
    "\n",
    "print(f\"Evaluation Results: {eval_results}\")\n",
    "\n",
    "# Save the fine-tuned model for future use\n",
    "model.save_pretrained(\"your_model_directory\")\n",
    "tokenizer.save_pretrained(\"your_model_directory\")"
   ]
  },
  {
   "cell_type": "code",
   "execution_count": 8,
   "metadata": {},
   "outputs": [
    {
     "data": {
      "application/vnd.jupyter.widget-view+json": {
       "model_id": "ab8739e2127249aaa2f45bb69f0c7094",
       "version_major": 2,
       "version_minor": 0
      },
      "text/plain": [
       "  0%|          | 0/313 [00:00<?, ?it/s]"
      ]
     },
     "metadata": {},
     "output_type": "display_data"
    },
    {
     "name": "stdout",
     "output_type": "stream",
     "text": [
      "Test Results: {'eval_loss': 0.6986885666847229, 'eval_model_preparation_time': 0.0013, 'eval_accuracy': 0.7676, 'eval_runtime': 37.0513, 'eval_samples_per_second': 134.948, 'eval_steps_per_second': 8.448, 'epoch': 3.0}\n"
     ]
    }
   ],
   "source": [
    "test_results = trainer.evaluate(test_dataset)\n",
    "\n",
    "# Print the test results\n",
    "print(f\"Test Results: {test_results}\")"
   ]
  },
  {
   "cell_type": "code",
   "execution_count": 9,
   "metadata": {},
   "outputs": [
    {
     "data": {
      "application/vnd.jupyter.widget-view+json": {
       "model_id": "c06f9243c670436f9094495a36c0b0e5",
       "version_major": 2,
       "version_minor": 0
      },
      "text/plain": [
       "  0%|          | 0/313 [00:00<?, ?it/s]"
      ]
     },
     "metadata": {},
     "output_type": "display_data"
    },
    {
     "name": "stdout",
     "output_type": "stream",
     "text": [
      "Confusion Matrix:\n",
      "[[1302  174  206]\n",
      " [ 124 1290  224]\n",
      " [ 220  214 1246]]\n"
     ]
    },
    {
     "data": {
      "text/plain": [
       "<sklearn.metrics._plot.confusion_matrix.ConfusionMatrixDisplay at 0x303d73e50>"
      ]
     },
     "execution_count": 9,
     "metadata": {},
     "output_type": "execute_result"
    },
    {
     "data": {
      "image/png": "[encoded data removed]",
      "text/plain": [
       "<Figure size 640x480 with 2 Axes>"
      ]
     },
     "metadata": {},
     "output_type": "display_data"
    }
   ],
   "source": [
    "from sklearn.metrics import confusion_matrix, ConfusionMatrixDisplay\n",
    "import matplotlib\n",
    "import numpy as np\n",
    "\n",
    "# Get predictions on the test dataset\n",
    "predictions = trainer.predict(test_dataset)\n",
    "\n",
    "# Extract the predicted labels (argmax of logits)\n",
    "predicted_labels = np.argmax(predictions.predictions, axis=1)\n",
    "\n",
    "# Extract the true labels\n",
    "true_labels = predictions.label_ids\n",
    "\n",
    "# Calculate the confusion matrix\n",
    "conf_matrix = confusion_matrix(true_labels, predicted_labels)\n",
    "\n",
    "# Display the confusion matrix\n",
    "print(f\"Confusion Matrix:\\n{conf_matrix}\")\n",
    "\n",
    "# Optional: Plot the confusion matrix using ConfusionMatrixDisplay from sklearn\n",
    "disp = ConfusionMatrixDisplay(confusion_matrix=conf_matrix, display_labels=list(label_mapping.keys()))\n",
    "disp.plot(cmap='Blues')\n"
   ]
  },
  {
   "cell_type": "code",
   "execution_count": 10,
   "metadata": {},
   "outputs": [
    {
     "name": "stdout",
     "output_type": "stream",
     "text": [
      "Accuracy from Confusion Matrix: 0.7676\n"
     ]
    }
   ],
   "source": [
    "accuracy = np.trace(conf_matrix) / np.sum(conf_matrix)\n",
    "\n",
    "print(f\"Accuracy from Confusion Matrix: {accuracy:.4f}\")\n"
   ]
  },
  {
   "cell_type": "code",
   "execution_count": 11,
   "metadata": {},
   "outputs": [
    {
     "data": {
      "application/vnd.jupyter.widget-view+json": {
       "model_id": "2ce03801458c4a668444e21952f7ef9e",
       "version_major": 2,
       "version_minor": 0
      },
      "text/plain": [
       "  0%|          | 0/313 [00:00<?, ?it/s]"
      ]
     },
     "metadata": {},
     "output_type": "display_data"
    },
    {
     "name": "stdout",
     "output_type": "stream",
     "text": [
      "Per-class Precision, Recall, F1-Score:\n",
      "Class contradiction - Precision: 0.7910, Recall: 0.7741, F1-Score: 0.7825\n",
      "Class entailment - Precision: 0.7688, Recall: 0.7875, F1-Score: 0.7780\n",
      "Class neutral - Precision: 0.7434, Recall: 0.7417, F1-Score: 0.7426\n",
      "\n",
      "Overall Micro-Averaged Metrics - Precision: 0.7676, Recall: 0.7676, F1-Score: 0.7676\n",
      "Overall Macro-Averaged Metrics - Precision: 0.7677, Recall: 0.7678, F1-Score: 0.7677\n"
     ]
    },
    {
     "data": {
      "image/png": "[encoded data removed]",
      "text/plain": [
       "<Figure size 640x480 with 1 Axes>"
      ]
     },
     "metadata": {},
     "output_type": "display_data"
    }
   ],
   "source": [
    "from sklearn.metrics import precision_recall_fscore_support, roc_auc_score, roc_curve, auc\n",
    "from sklearn.preprocessing import label_binarize\n",
    "import matplotlib.pyplot as plt\n",
    "import numpy as np\n",
    "\n",
    "# Assuming predictions and true labels are already computed\n",
    "predictions = trainer.predict(test_dataset)\n",
    "predicted_labels = np.argmax(predictions.predictions, axis=1)\n",
    "true_labels = predictions.label_ids\n",
    "\n",
    "# Binarize the true labels for ROC-AUC computation (necessary for multi-class)\n",
    "n_classes = len(label_mapping)  # Number of classes (e.g., 3 for 'contradiction', 'entailment', 'neutral')\n",
    "true_labels_binarized = label_binarize(true_labels, classes=[0, 1, 2])\n",
    "\n",
    "# Calculate Precision, Recall, and F1-Score for each class and overall (micro and macro)\n",
    "precision, recall, f1, _ = precision_recall_fscore_support(true_labels, predicted_labels, average=None, labels=[0, 1, 2])\n",
    "precision_micro, recall_micro, f1_micro, _ = precision_recall_fscore_support(true_labels, predicted_labels, average='micro')\n",
    "precision_macro, recall_macro, f1_macro, _ = precision_recall_fscore_support(true_labels, predicted_labels, average='macro')\n",
    "\n",
    "# Print Precision, Recall, and F1-Score for each class\n",
    "print(f\"Per-class Precision, Recall, F1-Score:\")\n",
    "for idx, label in enumerate(label_mapping.keys()):\n",
    "    print(f\"Class {label} - Precision: {precision[idx]:.4f}, Recall: {recall[idx]:.4f}, F1-Score: {f1[idx]:.4f}\")\n",
    "\n",
    "# Print overall metrics\n",
    "print(f\"\\nOverall Micro-Averaged Metrics - Precision: {precision_micro:.4f}, Recall: {recall_micro:.4f}, F1-Score: {f1_micro:.4f}\")\n",
    "print(f\"Overall Macro-Averaged Metrics - Precision: {precision_macro:.4f}, Recall: {recall_macro:.4f}, F1-Score: {f1_macro:.4f}\")\n",
    "\n",
    "# Compute ROC-AUC for each class\n",
    "fpr = dict()\n",
    "tpr = dict()\n",
    "roc_auc = dict()\n",
    "for i in range(n_classes):\n",
    "    fpr[i], tpr[i], _ = roc_curve(true_labels_binarized[:, i], predictions.predictions[:, i])\n",
    "    roc_auc[i] = auc(fpr[i], tpr[i])\n",
    "\n",
    "# Compute macro-average ROC curve and ROC area\n",
    "# Aggregate all false positive rates\n",
    "all_fpr = np.unique(np.concatenate([fpr[i] for i in range(n_classes)]))\n",
    "\n",
    "# Interpolate all ROC curves at these points\n",
    "mean_tpr = np.zeros_like(all_fpr)\n",
    "for i in range(n_classes):\n",
    "    mean_tpr += np.interp(all_fpr, fpr[i], tpr[i])\n",
    "\n",
    "# Average it and compute AUC\n",
    "mean_tpr /= n_classes\n",
    "fpr[\"macro\"] = all_fpr\n",
    "tpr[\"macro\"] = mean_tpr\n",
    "roc_auc[\"macro\"] = auc(fpr[\"macro\"], tpr[\"macro\"])\n",
    "\n",
    "# Plot ROC curve for each class and the macro-average\n",
    "plt.figure()\n",
    "plt.plot(fpr[\"macro\"], tpr[\"macro\"], label=f'Macro-average ROC curve (area = {roc_auc[\"macro\"]:.2f})', color='navy', linestyle=':', linewidth=2)\n",
    "for i in range(n_classes):\n",
    "    plt.plot(fpr[i], tpr[i], lw=2, label=f'ROC curve of class {list(label_mapping.keys())[i]} (area = {roc_auc[i]:.2f})')\n",
    "\n",
    "plt.xlim([0.0, 1.0])\n",
    "plt.ylim([0.0, 1.05])\n",
    "plt.xlabel('False Positive Rate')\n",
    "plt.ylabel('True Positive Rate')\n",
    "plt.title('Receiver Operating Characteristic (ROC) Curves for Multi-Class NLI Model')\n",
    "plt.legend(loc=\"lower right\")\n",
    "plt.show()\n"
   ]
  },
  {
   "cell_type": "code",
   "execution_count": null,
   "metadata": {},
   "outputs": [],
   "source": []
  }
 ],
 "metadata": {
  "kernelspec": {
   "display_name": "sbert",
   "language": "python",
   "name": "python3"
  },
  "language_info": {
   "codemirror_mode": {
    "name": "ipython",
    "version": 3
   },
   "file_extension": ".py",
   "mimetype": "text/x-python",
   "name": "python",
   "nbconvert_exporter": "python",
   "pygments_lexer": "ipython3",
   "version": "3.10.14"
  }
 },
 "nbformat": 4,
 "nbformat_minor": 2
}
